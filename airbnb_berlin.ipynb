{
 "cells": [
  {
   "attachments": {},
   "cell_type": "markdown",
   "metadata": {},
   "source": [
    "Read in the necessary libraries"
   ]
  },
  {
   "cell_type": "code",
   "execution_count": 96,
   "metadata": {},
   "outputs": [],
   "source": [
    "import pandas as pd\n",
    "import numpy as np\n",
    "import matplotlib.pyplot as plt\n",
    "from sklearn.linear_model import LinearRegression\n",
    "from sklearn.model_selection import train_test_split\n",
    "from sklearn.metrics import r2_score, mean_squared_error"
   ]
  },
  {
   "attachments": {},
   "cell_type": "markdown",
   "metadata": {},
   "source": [
    "Read in the necessary data"
   ]
  },
  {
   "cell_type": "code",
   "execution_count": 97,
   "metadata": {},
   "outputs": [],
   "source": [
    "df_detailed_listings = pd.read_csv('./resource/raw_data/detailed_listings.csv')\n",
    "df_detailed_reviews = pd.read_csv('./resource/raw_data/detailed_reviews.csv')\n",
    "df_listings = pd.read_csv('./resource/raw_data/listings.csv')\n",
    "df_reviews = pd.read_csv('./resource/raw_data/reviews.csv')"
   ]
  },
  {
   "attachments": {},
   "cell_type": "markdown",
   "metadata": {},
   "source": [
    "Overview of the data - comparing detailed listings df to reduced listings df"
   ]
  },
  {
   "cell_type": "code",
   "execution_count": 98,
   "metadata": {},
   "outputs": [
    {
     "name": "stdout",
     "output_type": "stream",
     "text": [
      "Features which are only in the detailed listings csv: \n",
      "['listing_url', 'scrape_id', 'last_scraped', 'source', 'description', 'neighborhood_overview', 'picture_url', 'host_url', 'host_since', 'host_location', 'host_about', 'host_response_time', 'host_response_rate', 'host_acceptance_rate', 'host_is_superhost', 'host_thumbnail_url', 'host_picture_url', 'host_neighbourhood', 'host_listings_count', 'host_total_listings_count', 'host_verifications', 'host_has_profile_pic', 'host_identity_verified', 'neighbourhood_cleansed', 'neighbourhood_group_cleansed', 'property_type', 'accommodates', 'bathrooms', 'bathrooms_text', 'bedrooms', 'beds', 'amenities', 'maximum_nights', 'minimum_minimum_nights', 'maximum_minimum_nights', 'minimum_maximum_nights', 'maximum_maximum_nights', 'minimum_nights_avg_ntm', 'maximum_nights_avg_ntm', 'calendar_updated', 'has_availability', 'availability_30', 'availability_60', 'availability_90', 'calendar_last_scraped', 'number_of_reviews_l30d', 'first_review', 'review_scores_rating', 'review_scores_accuracy', 'review_scores_cleanliness', 'review_scores_checkin', 'review_scores_communication', 'review_scores_location', 'review_scores_value', 'instant_bookable', 'calculated_host_listings_count_entire_homes', 'calculated_host_listings_count_private_rooms', 'calculated_host_listings_count_shared_rooms']\n",
      "\n",
      "Features which are only in the reduces listings csv: \n",
      "['neighbourhood_group']\n"
     ]
    }
   ],
   "source": [
    "columns_detailed_listings = df_detailed_listings.columns\n",
    "columns_listings = df_listings.columns\n",
    "\n",
    "detailed_listings_exclusive_features = [x for x in columns_detailed_listings if x not in columns_listings]\n",
    "listings_exclusive_features = [x for x in columns_listings if x not in columns_detailed_listings]\n",
    "\n",
    "print(f'Features which are only in the detailed listings csv: \\n{detailed_listings_exclusive_features}\\n')\n",
    "print(f'Features which are only in the reduces listings csv: \\n{listings_exclusive_features}')"
   ]
  },
  {
   "attachments": {},
   "cell_type": "markdown",
   "metadata": {},
   "source": [
    "Apparently all columns from the reduced listings csv are included in the detailed listings csv, except for the column 'neighbourhood_group'. After looking through all column labels it is likely the information out of the 'neighbourhood_group' is also inlcuded in the detailed listings csv, but with a diffrent columnname."
   ]
  },
  {
   "cell_type": "code",
   "execution_count": 99,
   "metadata": {},
   "outputs": [
    {
     "data": {
      "text/plain": [
       "Friedrichshain-Kreuzberg    3516\n",
       "Mitte                       3426\n",
       "Pankow                      2480\n",
       "Neukölln                    2103\n",
       "Charlottenburg-Wilm.        1287\n",
       "Tempelhof - Schöneberg      1066\n",
       "Treptow - Köpenick           543\n",
       "Lichtenberg                  463\n",
       "Steglitz - Zehlendorf        362\n",
       "Reinickendorf                231\n",
       "Spandau                      130\n",
       "Marzahn - Hellersdorf        110\n",
       "Name: neighbourhood_group, dtype: int64"
      ]
     },
     "execution_count": 99,
     "metadata": {},
     "output_type": "execute_result"
    }
   ],
   "source": [
    "df_listings.neighbourhood_group.value_counts()"
   ]
  },
  {
   "cell_type": "code",
   "execution_count": 100,
   "metadata": {},
   "outputs": [
    {
     "data": {
      "text/plain": [
       "Friedrichshain-Kreuzberg    3516\n",
       "Mitte                       3426\n",
       "Pankow                      2480\n",
       "Neukölln                    2103\n",
       "Charlottenburg-Wilm.        1287\n",
       "Tempelhof - Schöneberg      1066\n",
       "Treptow - Köpenick           543\n",
       "Lichtenberg                  463\n",
       "Steglitz - Zehlendorf        362\n",
       "Reinickendorf                231\n",
       "Spandau                      130\n",
       "Marzahn - Hellersdorf        110\n",
       "Name: neighbourhood_group_cleansed, dtype: int64"
      ]
     },
     "execution_count": 100,
     "metadata": {},
     "output_type": "execute_result"
    }
   ],
   "source": [
    "df_detailed_listings.neighbourhood_group_cleansed.value_counts()"
   ]
  },
  {
   "attachments": {},
   "cell_type": "markdown",
   "metadata": {},
   "source": [
    "The data regarding the 'neighbourhood_group' is also included in the detailed listings csv in the 'neighbourhood_group_cleansed' column. We therefore only need the detailed listings csv, without missing out on features regarding the listings."
   ]
  },
  {
   "cell_type": "code",
   "execution_count": 101,
   "metadata": {},
   "outputs": [
    {
     "name": "stdout",
     "output_type": "stream",
     "text": [
      "<class 'pandas.core.frame.DataFrame'>\n",
      "RangeIndex: 460316 entries, 0 to 460315\n",
      "Data columns (total 6 columns):\n",
      " #   Column         Non-Null Count   Dtype \n",
      "---  ------         --------------   ----- \n",
      " 0   listing_id     460316 non-null  int64 \n",
      " 1   id             460316 non-null  int64 \n",
      " 2   date           460316 non-null  object\n",
      " 3   reviewer_id    460316 non-null  int64 \n",
      " 4   reviewer_name  460316 non-null  object\n",
      " 5   comments       460293 non-null  object\n",
      "dtypes: int64(3), object(3)\n",
      "memory usage: 21.1+ MB\n",
      "None\n",
      "<class 'pandas.core.frame.DataFrame'>\n",
      "RangeIndex: 460316 entries, 0 to 460315\n",
      "Data columns (total 2 columns):\n",
      " #   Column      Non-Null Count   Dtype \n",
      "---  ------      --------------   ----- \n",
      " 0   listing_id  460316 non-null  int64 \n",
      " 1   date        460316 non-null  object\n",
      "dtypes: int64(1), object(1)\n",
      "memory usage: 7.0+ MB\n",
      "None\n"
     ]
    }
   ],
   "source": [
    "print(df_detailed_reviews.info())\n",
    "print(df_reviews.info())"
   ]
  },
  {
   "attachments": {},
   "cell_type": "markdown",
   "metadata": {},
   "source": [
    "Comparing the reviews and detailed reviews csv it becomes clear that the detailed reviews includes all informations necessary. For further analysis we focus on the detailed listings and detailed reviews csv."
   ]
  },
  {
   "cell_type": "code",
   "execution_count": 102,
   "metadata": {},
   "outputs": [
    {
     "name": "stdout",
     "output_type": "stream",
     "text": [
      "<class 'pandas.core.frame.DataFrame'>\n",
      "RangeIndex: 460316 entries, 0 to 460315\n",
      "Data columns (total 6 columns):\n",
      " #   Column         Non-Null Count   Dtype \n",
      "---  ------         --------------   ----- \n",
      " 0   listing_id     460316 non-null  int64 \n",
      " 1   id             460316 non-null  int64 \n",
      " 2   date           460316 non-null  object\n",
      " 3   reviewer_id    460316 non-null  int64 \n",
      " 4   reviewer_name  460316 non-null  object\n",
      " 5   comments       460293 non-null  object\n",
      "dtypes: int64(3), object(3)\n",
      "memory usage: 21.1+ MB\n",
      "None\n"
     ]
    }
   ],
   "source": [
    "print(df_detailed_reviews.info())"
   ]
  },
  {
   "cell_type": "code",
   "execution_count": 103,
   "metadata": {},
   "outputs": [
    {
     "name": "stdout",
     "output_type": "stream",
     "text": [
      "<class 'pandas.core.frame.DataFrame'>\n",
      "RangeIndex: 15717 entries, 0 to 15716\n",
      "Data columns (total 75 columns):\n",
      " #   Column                                        Non-Null Count  Dtype  \n",
      "---  ------                                        --------------  -----  \n",
      " 0   id                                            15717 non-null  int64  \n",
      " 1   listing_url                                   15717 non-null  object \n",
      " 2   scrape_id                                     15717 non-null  int64  \n",
      " 3   last_scraped                                  15717 non-null  object \n",
      " 4   source                                        15717 non-null  object \n",
      " 5   name                                          15699 non-null  object \n",
      " 6   description                                   15435 non-null  object \n",
      " 7   neighborhood_overview                         8187 non-null   object \n",
      " 8   picture_url                                   15717 non-null  object \n",
      " 9   host_id                                       15717 non-null  int64  \n",
      " 10  host_url                                      15717 non-null  object \n",
      " 11  host_name                                     15697 non-null  object \n",
      " 12  host_since                                    15697 non-null  object \n",
      " 13  host_location                                 13605 non-null  object \n",
      " 14  host_about                                    7814 non-null   object \n",
      " 15  host_response_time                            7981 non-null   object \n",
      " 16  host_response_rate                            7981 non-null   object \n",
      " 17  host_acceptance_rate                          8838 non-null   object \n",
      " 18  host_is_superhost                             15713 non-null  object \n",
      " 19  host_thumbnail_url                            15697 non-null  object \n",
      " 20  host_picture_url                              15697 non-null  object \n",
      " 21  host_neighbourhood                            9303 non-null   object \n",
      " 22  host_listings_count                           15697 non-null  float64\n",
      " 23  host_total_listings_count                     15697 non-null  float64\n",
      " 24  host_verifications                            15717 non-null  object \n",
      " 25  host_has_profile_pic                          15697 non-null  object \n",
      " 26  host_identity_verified                        15697 non-null  object \n",
      " 27  neighbourhood                                 8188 non-null   object \n",
      " 28  neighbourhood_cleansed                        15717 non-null  object \n",
      " 29  neighbourhood_group_cleansed                  15717 non-null  object \n",
      " 30  latitude                                      15717 non-null  float64\n",
      " 31  longitude                                     15717 non-null  float64\n",
      " 32  property_type                                 15717 non-null  object \n",
      " 33  room_type                                     15717 non-null  object \n",
      " 34  accommodates                                  15717 non-null  int64  \n",
      " 35  bathrooms                                     0 non-null      float64\n",
      " 36  bathrooms_text                                15703 non-null  object \n",
      " 37  bedrooms                                      14424 non-null  float64\n",
      " 38  beds                                          15415 non-null  float64\n",
      " 39  amenities                                     15717 non-null  object \n",
      " 40  price                                         15717 non-null  object \n",
      " 41  minimum_nights                                15717 non-null  int64  \n",
      " 42  maximum_nights                                15717 non-null  int64  \n",
      " 43  minimum_minimum_nights                        15717 non-null  int64  \n",
      " 44  maximum_minimum_nights                        15717 non-null  int64  \n",
      " 45  minimum_maximum_nights                        15717 non-null  int64  \n",
      " 46  maximum_maximum_nights                        15717 non-null  int64  \n",
      " 47  minimum_nights_avg_ntm                        15717 non-null  float64\n",
      " 48  maximum_nights_avg_ntm                        15717 non-null  float64\n",
      " 49  calendar_updated                              0 non-null      float64\n",
      " 50  has_availability                              15717 non-null  object \n",
      " 51  availability_30                               15717 non-null  int64  \n",
      " 52  availability_60                               15717 non-null  int64  \n",
      " 53  availability_90                               15717 non-null  int64  \n",
      " 54  availability_365                              15717 non-null  int64  \n",
      " 55  calendar_last_scraped                         15717 non-null  object \n",
      " 56  number_of_reviews                             15717 non-null  int64  \n",
      " 57  number_of_reviews_ltm                         15717 non-null  int64  \n",
      " 58  number_of_reviews_l30d                        15717 non-null  int64  \n",
      " 59  first_review                                  12755 non-null  object \n",
      " 60  last_review                                   12755 non-null  object \n",
      " 61  review_scores_rating                          12755 non-null  float64\n",
      " 62  review_scores_accuracy                        12510 non-null  float64\n",
      " 63  review_scores_cleanliness                     12513 non-null  float64\n",
      " 64  review_scores_checkin                         12505 non-null  float64\n",
      " 65  review_scores_communication                   12513 non-null  float64\n",
      " 66  review_scores_location                        12506 non-null  float64\n",
      " 67  review_scores_value                           12504 non-null  float64\n",
      " 68  license                                       6381 non-null   object \n",
      " 69  instant_bookable                              15717 non-null  object \n",
      " 70  calculated_host_listings_count                15717 non-null  int64  \n",
      " 71  calculated_host_listings_count_entire_homes   15717 non-null  int64  \n",
      " 72  calculated_host_listings_count_private_rooms  15717 non-null  int64  \n",
      " 73  calculated_host_listings_count_shared_rooms   15717 non-null  int64  \n",
      " 74  reviews_per_month                             12755 non-null  float64\n",
      "dtypes: float64(18), int64(21), object(36)\n",
      "memory usage: 9.0+ MB\n",
      "None\n"
     ]
    }
   ],
   "source": [
    "print(df_detailed_listings.info())"
   ]
  },
  {
   "attachments": {},
   "cell_type": "markdown",
   "metadata": {},
   "source": [
    "Taking a look at the shape and dimensions of the two dataframes shows that there are way more reviews than listings, propably because there are multiple reviews for the same listings included in the review dataframe."
   ]
  },
  {
   "cell_type": "code",
   "execution_count": 104,
   "metadata": {},
   "outputs": [
    {
     "name": "stdout",
     "output_type": "stream",
     "text": [
      "Unique IDs in the review df: 12755\n",
      "Unique IDs in the listings df: 15717\n",
      "Listings without a review: 2962\n"
     ]
    }
   ],
   "source": [
    "# comparing the entries of both lists and store the ones which aren't present in both to a new list via list comprehension:\n",
    "# listings_without_reviews = [x for x in df_detailed_listings.id.unique() if x not in df_detailed_reviews.listing_id.unique()]\n",
    "# print(f'listings without a review: {len(listings_without_reviews)}')\n",
    "\n",
    "print(f'Unique IDs in the review df: {df_detailed_reviews.listing_id.nunique()}')\n",
    "print(f'Unique IDs in the listings df: {df_detailed_listings.id.nunique()}')\n",
    "\n",
    "# to save time computing this method of simply substracting the lists from each other is used. Both methods produce the same output.\n",
    "print(f'Listings without a review: {df_detailed_listings.id.nunique() - df_detailed_reviews.listing_id.nunique()}')"
   ]
  },
  {
   "attachments": {},
   "cell_type": "markdown",
   "metadata": {},
   "source": [
    "For further investigation of the data we merge the two dataframes on the respective ID columns."
   ]
  },
  {
   "cell_type": "code",
   "execution_count": 105,
   "metadata": {},
   "outputs": [],
   "source": [
    "# renaming the 'id' column into 'review_id':\n",
    "df_r = df_detailed_reviews.rename(columns={'id': 'review_id'}).copy()\n",
    "\n",
    "# renaming the 'id' column into 'listing_id':\n",
    "df_l = df_detailed_listings.rename(columns={'id': 'listing_id'}).copy()"
   ]
  },
  {
   "cell_type": "code",
   "execution_count": 111,
   "metadata": {},
   "outputs": [
    {
     "data": {
      "text/plain": [
       "(460316, 460316, 15717, 15717)"
      ]
     },
     "execution_count": 111,
     "metadata": {},
     "output_type": "execute_result"
    }
   ],
   "source": [
    "# Doublecheck if everything went well\n",
    "df_r.review_id.nunique(), df_detailed_reviews.id.nunique(), df_l.listing_id.nunique(), df_detailed_listings.id.nunique()"
   ]
  },
  {
   "cell_type": "code",
   "execution_count": 114,
   "metadata": {},
   "outputs": [],
   "source": [
    "df = pd.merge(df_l, df_r, on='listing_id')"
   ]
  },
  {
   "cell_type": "code",
   "execution_count": 117,
   "metadata": {},
   "outputs": [
    {
     "name": "stdout",
     "output_type": "stream",
     "text": [
      "Shape of df_detailed_reviews: (460316, 6)\n",
      "Shape of df_detailed_listings: (15717, 75)\n",
      "Shape of the merged dataframe df: (460316, 80)\n"
     ]
    }
   ],
   "source": [
    "print(f'Shape of df_detailed_reviews: {df_detailed_reviews.shape}')\n",
    "print(f'Shape of df_detailed_listings: {df_detailed_listings.shape}')\n",
    "print(f'Shape of the merged dataframe df: {df.shape}')"
   ]
  },
  {
   "cell_type": "code",
   "execution_count": 139,
   "metadata": {},
   "outputs": [
    {
     "data": {
      "text/html": [
       "<div>\n",
       "<style scoped>\n",
       "    .dataframe tbody tr th:only-of-type {\n",
       "        vertical-align: middle;\n",
       "    }\n",
       "\n",
       "    .dataframe tbody tr th {\n",
       "        vertical-align: top;\n",
       "    }\n",
       "\n",
       "    .dataframe thead th {\n",
       "        text-align: right;\n",
       "    }\n",
       "</style>\n",
       "<table border=\"1\" class=\"dataframe\">\n",
       "  <thead>\n",
       "    <tr style=\"text-align: right;\">\n",
       "      <th></th>\n",
       "      <th>listing_id</th>\n",
       "      <th>first_review</th>\n",
       "      <th>comments</th>\n",
       "    </tr>\n",
       "  </thead>\n",
       "  <tbody>\n",
       "    <tr>\n",
       "      <th>0</th>\n",
       "      <td>3176</td>\n",
       "      <td>2009-06-20</td>\n",
       "      <td>excellent stay, i would highly recommend it. a...</td>\n",
       "    </tr>\n",
       "    <tr>\n",
       "      <th>1</th>\n",
       "      <td>3176</td>\n",
       "      <td>2009-06-20</td>\n",
       "      <td>Britta's apartment in Berlin is in a great are...</td>\n",
       "    </tr>\n",
       "    <tr>\n",
       "      <th>2</th>\n",
       "      <td>3176</td>\n",
       "      <td>2009-06-20</td>\n",
       "      <td>Fantastic, large place in good location. Only ...</td>\n",
       "    </tr>\n",
       "    <tr>\n",
       "      <th>3</th>\n",
       "      <td>3176</td>\n",
       "      <td>2009-06-20</td>\n",
       "      <td>L'appartamento di Britta è molto largo carino ...</td>\n",
       "    </tr>\n",
       "    <tr>\n",
       "      <th>4</th>\n",
       "      <td>3176</td>\n",
       "      <td>2009-06-20</td>\n",
       "      <td>We went in Berlin for the new year eve. The ap...</td>\n",
       "    </tr>\n",
       "    <tr>\n",
       "      <th>...</th>\n",
       "      <td>...</td>\n",
       "      <td>...</td>\n",
       "      <td>...</td>\n",
       "    </tr>\n",
       "    <tr>\n",
       "      <th>460311</th>\n",
       "      <td>765059405014594279</td>\n",
       "      <td>2022-12-06</td>\n",
       "      <td>Wir sind mit dem Flieger erst spät abends ange...</td>\n",
       "    </tr>\n",
       "    <tr>\n",
       "      <th>460312</th>\n",
       "      <td>765297203706146084</td>\n",
       "      <td>2022-12-01</td>\n",
       "      <td>Nette und freundliche Leute</td>\n",
       "    </tr>\n",
       "    <tr>\n",
       "      <th>460313</th>\n",
       "      <td>765297203706146084</td>\n",
       "      <td>2022-12-01</td>\n",
       "      <td>Eine sehr schöne preiswerte Unterkunft und seh...</td>\n",
       "    </tr>\n",
       "    <tr>\n",
       "      <th>460314</th>\n",
       "      <td>765297203706146084</td>\n",
       "      <td>2022-12-01</td>\n",
       "      <td>Great hosts, thanks :)</td>\n",
       "    </tr>\n",
       "    <tr>\n",
       "      <th>460315</th>\n",
       "      <td>765331002345742822</td>\n",
       "      <td>2022-12-21</td>\n",
       "      <td>Nice apartment and nice host! 9/10!</td>\n",
       "    </tr>\n",
       "  </tbody>\n",
       "</table>\n",
       "<p>137575 rows × 3 columns</p>\n",
       "</div>"
      ],
      "text/plain": [
       "                listing_id first_review  \\\n",
       "0                     3176   2009-06-20   \n",
       "1                     3176   2009-06-20   \n",
       "2                     3176   2009-06-20   \n",
       "3                     3176   2009-06-20   \n",
       "4                     3176   2009-06-20   \n",
       "...                    ...          ...   \n",
       "460311  765059405014594279   2022-12-06   \n",
       "460312  765297203706146084   2022-12-01   \n",
       "460313  765297203706146084   2022-12-01   \n",
       "460314  765297203706146084   2022-12-01   \n",
       "460315  765331002345742822   2022-12-21   \n",
       "\n",
       "                                                 comments  \n",
       "0       excellent stay, i would highly recommend it. a...  \n",
       "1       Britta's apartment in Berlin is in a great are...  \n",
       "2       Fantastic, large place in good location. Only ...  \n",
       "3       L'appartamento di Britta è molto largo carino ...  \n",
       "4       We went in Berlin for the new year eve. The ap...  \n",
       "...                                                   ...  \n",
       "460311  Wir sind mit dem Flieger erst spät abends ange...  \n",
       "460312                        Nette und freundliche Leute  \n",
       "460313  Eine sehr schöne preiswerte Unterkunft und seh...  \n",
       "460314                             Great hosts, thanks :)  \n",
       "460315                Nice apartment and nice host! 9/10!  \n",
       "\n",
       "[137575 rows x 3 columns]"
      ]
     },
     "execution_count": 139,
     "metadata": {},
     "output_type": "execute_result"
    }
   ],
   "source": [
    "# doublecheck if the dataframes are merged correctly, using distinctive columns:\n",
    "df.groupby(['listing_id'])[['listing_id', 'first_review', 'comments']].head(20)"
   ]
  },
  {
   "cell_type": "code",
   "execution_count": 142,
   "metadata": {},
   "outputs": [],
   "source": [
    "df.to_csv('./resource/airbnb_berlin_data.csv.zip', index_label='listing_id', compression='zip')"
   ]
  }
 ],
 "metadata": {
  "kernelspec": {
   "display_name": "ml",
   "language": "python",
   "name": "python3"
  },
  "language_info": {
   "codemirror_mode": {
    "name": "ipython",
    "version": 3
   },
   "file_extension": ".py",
   "mimetype": "text/x-python",
   "name": "python",
   "nbconvert_exporter": "python",
   "pygments_lexer": "ipython3",
   "version": "3.10.0"
  },
  "orig_nbformat": 4,
  "vscode": {
   "interpreter": {
    "hash": "db9c059572ed3138442ca94ddfc11038f56d8174bb8c1e572332b95c07613972"
   }
  }
 },
 "nbformat": 4,
 "nbformat_minor": 2
}
